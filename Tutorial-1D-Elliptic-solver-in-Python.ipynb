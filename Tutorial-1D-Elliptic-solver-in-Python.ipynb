{
 "cells": [
  {
   "cell_type": "markdown",
   "id": "studied-jacksonville",
   "metadata": {},
   "source": [
    "<script async src=\"https://www.googletagmanager.com/gtag/js?id=UA-59152712-8\"></script>\n",
    "<script>\n",
    "  window.dataLayer = window.dataLayer || [];\n",
    "  function gtag(){dataLayer.push(arguments);}\n",
    "  gtag('js', new Date());\n",
    "\n",
    "  gtag('config', 'UA-59152712-8');\n",
    "</script>\n",
    "\n",
    "# Simple $1$-D elliptic solver in Python \n",
    "\n",
    "## Authors: Thiago Assumpção & Zach Etienne\n",
    "\n",
    "\n",
    "## In this tutorial, we implement an 1D elliptic solver using the hyperbolic relaxation approach in Python. \n",
    "\n",
    "**Notebook Status:** <font color='red'><b> Not validated </b></font>\n",
    "\n",
    "**Validation Notes:** This tutorial notebook has been confirmed to be self-consistent with its corresponding NRPy+ module, as documented [below](#code_validation).\n",
    "\n",
    "### NRPy+ Source Code for this module: [_____.py](../edit/_____.py)"
   ]
  },
  {
   "cell_type": "markdown",
   "id": "smart-climb",
   "metadata": {},
   "source": [
    "<a id='toc'></a>\n",
    "\n",
    "# Table of Contents\n",
    "$$\\label{toc}$$\n",
    "\n",
    "This notebook is organized as follows\n",
    "\n",
    "1. [Step 1](#intro): Introduction\n",
    "1. [Step 2](#imports): Import core Python modules\n",
    "1. [Step 3](#basic_equations): Basic equations\n",
    "1. [Step 4](#mol): The Method of Lines (MoL)\n",
    "1. [Step 5](#basicalg): `NumPy` Implementation: Basic Algorithm\n",
    "    1. [Step 5.a](#numgrid_freeparams): Set up the numerical grid and free parameters\n",
    "    1. [Step 5.b](#numpy_rhss): Define the right-hand sides of the PDEs\n",
    "    1. [Step 5.c](#numpy_bcs): Boundary Conditions\n",
    "    1. [Step 5.d](#numpy_residual): Residual\n",
    "    1. [Step 5.e](#numpy_mol): The Method of Lines\n",
    "    1. [Step 5.f](#numpy_source): Source term and exact solution\n",
    "    1. [Step 5.g](#numpy_driver): The main driver function\n",
    "1. [Step 6](#error_analysis): Error analysis & code validation: Confirming numerical errors converge to zero at the expected rate\n",
    "1. [Step 7](#naive_multigrid): Speed-up trick: naive multigrid algorithm\n",
    "1. [Step 8](#latex_pdf_output): Output this notebook to $\\LaTeX$-formatted PDF file"
   ]
  },
  {
   "cell_type": "markdown",
   "id": "statistical-lodge",
   "metadata": {},
   "source": [
    "<a id='intro'></a>\n",
    "\n",
    "# Step 1: Introduction \\[Back to [top](#toc)\\]\n",
    "$$\\label{intro}$$\n",
    "\n",
    "We will write a Python-based code to solve the following differential equation:\n",
    "\n",
    "$$\n",
    "\\nabla^2 u(\\vec{x}) + \\rho(\\vec{x}) = 0 \\,,\n",
    "$$\n",
    "\n",
    "where $\\vec{x} = (x^0, x^1, x^2)$ are the coordinates of flat $3$-D space, $\\nabla^2$ is the Laplacian operator in flat space, and $\\rho$ is a source term. \n",
    "\n",
    "The above equation is an elliptic partial differential equation, and can be solved with several different numerical techniques. In this tutorial, we will solve it using the **hyperbolic relaxation method for elliptic equations**. We begin by introducing an *artificial time coordinate*, $t$, such that $u$ is now a function of position and time, i.e., $u=u(t,\\vec{x})$. Moreover, we modify the equation in the following way:\n",
    "\n",
    "$$\n",
    "\\frac{\\partial^2 u}{\\partial t^2} + \\eta \\frac{\\partial u}{\\partial t} \n",
    "        = c^2 \\left( \\nabla^2 u(\\vec{x}) + \\rho(\\vec{x}) \\right) \\,,\n",
    "$$\n",
    "\n",
    "\n",
    "where $\\eta>0$ is a constant that acts as a damping parameters, and $c$ is a wave speed. The idea behind this relaxation algorithm is as follows. In the steady-state regime, both first and second time derivatives will vanish:\n",
    "\n",
    "$$\n",
    "\\frac{\\partial u}{\\partial t} \\Big|_{t\\to\\infty} \n",
    "= \\frac{\\partial^2 u}{\\partial t^2}  \\Big|_{t\\to\\infty} = 0 \\,,\n",
    "$$\n",
    "\n",
    "so that the solution to the hyperbolized equation matches the solution to the original elliptic system:\n",
    "\n",
    "$$\n",
    "0 = c^2 \\left( \\nabla^2 u(\\vec{x}) + \\rho(\\vec{x}) \\right) \\,.\n",
    "$$\n",
    "\n",
    "The power of the hyperbolic relaxation method is that we can solve elliptic equations using techniques that were developed to evolve wave equations. For pedagogical as well as practical purposes, we will work under the assumption that $u$ is a function of one of the coordinates only, say, $u=u(x^0)$. This implies that both $\\rho$ is also a function of $x^0$ only. This tutorial aims to introduce the essencial components of a wave equation solver, as well as producing a $1$-D elliptic solver in the Python programming language."
   ]
  },
  {
   "cell_type": "markdown",
   "id": "interested-fields",
   "metadata": {},
   "source": [
    "<a id='imports'></a>\n",
    "\n",
    "# Step 2: Import core Python modules \\[Back to [top](#toc)\\]\n",
    "$$\\label{imports}$$"
   ]
  },
  {
   "cell_type": "code",
   "execution_count": 1,
   "id": "alpine-mileage",
   "metadata": {},
   "outputs": [],
   "source": [
    "import sympy as sp                 # SymPy:  The Python computer algebra package upon which NRPy+ depends\n",
    "import numpy as np                 # Numpy:  Numerical library\n",
    "from collections import namedtuple # Python: tuples with named fields\n",
    "import shutil, os, sys             # Standard Python modules for multiplatform OS-level functions\n",
    "import matplotlib.pyplot as plt    # Python plotting module\n",
    "import time                        # for live benchmarking & estimates"
   ]
  },
  {
   "cell_type": "code",
   "execution_count": 2,
   "id": "academic-vancouver",
   "metadata": {},
   "outputs": [],
   "source": [
    "# Optional: LaTex font:\n",
    "plt.rcParams[\"mathtext.fontset\"] = \"cm\"\n",
    "plt.rcParams[\"font.family\"] = \"STIXGeneral\""
   ]
  },
  {
   "cell_type": "markdown",
   "id": "moved-respect",
   "metadata": {},
   "source": [
    "<a id='basic_equations'></a>\n",
    "\n",
    "# Step 3: Basic equations \\[Back to [top](#toc)\\]\n",
    "$$\\label{basic_equations}$$"
   ]
  },
  {
   "cell_type": "markdown",
   "id": "residential-founder",
   "metadata": {},
   "source": [
    "We are going to solve an equation with spherical symmetry using spherical coordinates. The hyperbolized equation becomes:\n",
    "\n",
    "$$\n",
    "\\frac{\\partial^2 u}{\\partial t^2} + \\eta \\frac{\\partial u}{\\partial t}\n",
    "            = c^2 \\left( \\frac{\\partial^2 u}{\\partial r^2} + \\frac{2}{r} \\frac{\\partial u}{\\partial r}\n",
    "                        + \\rho(r)  \\right) \\,.\n",
    "$$\n",
    "\n",
    "To evolve this equation as a first-order system in time, we define an auxialiary evolution function as \n",
    "\n",
    "$$\n",
    "v \\equiv \\frac{\\partial u}{\\partial t} + \\eta u \\,.\n",
    "$$\n",
    "\n",
    "The system to be solved is then given by\n",
    "\n",
    "$$\n",
    "\\begin{aligned}\n",
    "\\frac{\\partial u}{\\partial t} &\\equiv \\text{u_rhs} = v - \\eta u \\,, \\\\\n",
    "\\frac{\\partial v}{\\partial t} &\\equiv \\text{v_rhs} = c^2 \\left( \\frac{\\partial^2 u}{\\partial r^2} \\\n",
    "                                    + \\frac{2}{r} \\frac{\\partial u}{\\partial r} + \\rho(r) \\right) \\,.\n",
    "\\end{aligned}\n",
    "$$\n",
    "\n",
    "In the convention adopted in all `NRPy+` codes, the right-hand side of any evolution variable, say $u$, is referred to as `u_rhs`."
   ]
  },
  {
   "cell_type": "markdown",
   "id": "spare-instruction",
   "metadata": {},
   "source": [
    "<a id='mol'></a>\n",
    "\n",
    "# Step 4: The Method of Lines (MoL)  \\[Back to [top](#toc)\\]\n",
    "$$\\label{mol}$$"
   ]
  },
  {
   "cell_type": "markdown",
   "id": "working-shape",
   "metadata": {},
   "source": [
    "Once we have set our initial conditions (here referred to as our \"initial guess\"), we \"evolve it forward in time\", using the [Method of Lines](https://reference.wolfram.com/language/tutorial/NDSolveMethodOfLines.html). In short, the Method of Lines enables us to handle\n",
    "1. the **spatial derivatives** of an initial value problem PDE using **standard finite difference approaches**, and\n",
    "2. the **temporal derivatives** of an initial value problem PDE using **standard strategies for solving ordinary differential equations (ODEs)**. \n",
    "\n",
    "Thus we can treat the spatial derivatives $\\nabla^2 u$ of the scalar wave equation  using **standard finite-difference approaches**, and the temporal derivatives $\\partial_t u$ and $\\partial_t v$ using **standard approaches for solving ODEs**. \n",
    "\n",
    "Here we will apply the highly robust [explicit Runge-Kutta fourth-order scheme](https://en.wikipedia.org/wiki/Runge%E2%80%93Kutta_methods) (RK4), used widely for numerically solving ODEs, to \"march\" (integrate) the solution vector $\\vec{f}$ forward in time from its initial value (\"initial guess\")."
   ]
  },
  {
   "cell_type": "markdown",
   "id": "ideal-madagascar",
   "metadata": {},
   "source": [
    "Here's how MoL works.\n",
    "\n",
    "The RK4 method is usually presented for solving the ODE\n",
    "$$\n",
    "y'(t) = f(y,t)\n",
    "$$\n",
    "as follows. Given initial data $y(t_0)=y_0$, one can construct the solution at any later time via the algorithm:\n",
    "$$\n",
    "\\begin{aligned}\n",
    "k_1 &= f(y_n, t_n), \\\\\n",
    "k_2 &= f(y_n + \\frac{1}{2}\\Delta tk_1, t_n + \\frac{\\Delta t}{2}), \\\\\n",
    "k_3 &= f(y_n + \\frac{1}{2}\\Delta tk_2, t_n + \\frac{\\Delta t}{2}), \\\\\n",
    "k_4 &= f(y_n + \\Delta tk_3, t_n + \\Delta t), \\\\\n",
    "y_{n+1} &= y_n + \\frac{1}{6}\\Delta t(k_1 + 2k_2 + 2k_3 + k_4) + \\mathcal{O}\\big((\\Delta t)^5\\big).\n",
    "\\end{aligned}\n",
    "$$\n",
    "\n",
    "Our PDE involves two variables $u$ and $v$, and the algorithm generalizes in exactly the same manner as it would if we were solving a system of coupled ODEs with two variables. Further our PDE does not contain explicit time dependence, which simplifies the algorithm a bit:\n",
    "$$\n",
    "\\begin{aligned}\n",
    "k_{1,u} &= f_u(u_n,v_n) = v_n - \\eta u_n, \\\\\n",
    "k_{1,v} &= f_v(u_n,v_n) = c^2 \\left( \\nabla^2 u + \\rho \\right), \\\\\n",
    "k_{2,u} &= f_u\\left(v_n + \\frac{1}{2}\\Delta tk_{1,v}\\right) , \\\\\n",
    "k_{2,v} &= f_v\\left(u_n + \\frac{1}{2}\\Delta tk_{1,u}\\right) , \\\\\n",
    "k_{3,u} &= f_u\\left(v_n + \\frac{1}{2}\\Delta tk_{2,v}\\right) , \\\\\n",
    "k_{3,v} &= f_v\\left(u_n + \\frac{1}{2}\\Delta tk_{2,u}\\right) , \\\\\n",
    "k_{4,u} &= f_u(v_n + \\Delta tk_{3,v}) , \\\\\n",
    "k_{4,v} &= f_v(u_n + \\Delta tk_{3,u}) , \\\\\n",
    "u_{n+1} &= u_n + \\frac{1}{6}\\Delta t(k_{1,u} + 2k_{2,u} + 2k_{3,u} + k_{4,u}) + \\mathcal{O}\\big((\\Delta t)^5\\big) ,\\\\\n",
    "v_{n+1} &= v_n + \\frac{1}{6}\\Delta t(k_{1,v} + 2k_{2,v} + 2k_{3,v} + k_{4,v}) + \\mathcal{O}\\big((\\Delta t)^5\\big).\n",
    "\\end{aligned}\n",
    "$$\n",
    "\n",
    "Thus, given initial guess $u_0$ and $v_0$, we can use the above algorithm to advance the solution forward in time by one timestep, to $u_1$ and $v_1$. Recall the $\\nabla^2 u$ terms in the above expressions are computed using finite-difference derivatives. Since finite-difference derivatives require neighboring points be evaluated, we only evaluate the $k_i$'s in the interior of the grid; at each step we apply boundary conditions to fill in the outermost neighboring points (called ghost zones)."
   ]
  },
  {
   "cell_type": "markdown",
   "id": "legendary-paper",
   "metadata": {},
   "source": [
    "<a id='basicalg'></a>\n",
    "\n",
    "# Step 5: `NumPy` Implementation: Basic Algorithm \\[Back to [top](#toc)\\]\n",
    "$$\\label{basicalg}$$\n",
    "\n",
    "We will store the numerical solution $u$ and its time derivative $v$, *at a given instant in time* on a one-dimensional numerical grid. Since these variables are defined at each point on the numerical grid, we call them **gridfunctions**.\n",
    "\n",
    "The basic algorithm for solving the scalar wave equation [initial value problem](https://en.wikipedia.org/wiki/Initial_value_problem), based on the Method of Lines (see section above) is outlined below.\n",
    "\n",
    "1. Set up the numerical grid and free parameters\n",
    "1. Allocate memory for gridfunctions, including temporary storage needed for the RK4 time integration.\n",
    "1. Set gridfunction values to initial guess.\n",
    "1. Evolve the system forward in time using RK4 time integration. At each RK4 substep, do the following:\n",
    "    1. Evaluate scalar wave RHS expressions.\n",
    "    1. Apply boundary conditions.\n",
    "\n",
    "In the following sections we will implement this algorithm to solve the scalar wave equation in 1D *by hand* using [NumPy](https://numpy.org/), and to motivate the use of NRPy+ and to introduce the concept of hyperbolic relaxation."
   ]
  },
  {
   "cell_type": "markdown",
   "id": "contemporary-writing",
   "metadata": {},
   "source": [
    "<a id='numgrid_freeparams'></a>\n",
    "\n",
    "## Step 5.a: Set up the numerical grid and free parameters \\[Back to [top](#toc)\\]\n",
    "$$\\label{numgrid_freeparams}$$\n",
    "\n",
    "We will solve the scalar wave equation on a uniform grid with `N` coordinate points in the $r$ direction. Since the grid is uniform, we can describe the coordinate of any gridpoint with a single integer as $r_i$.\n",
    "\n",
    "Let's choose a \"cell-centered\" grid, which will store the solution at points\n",
    "$$\n",
    "r_i \\in \\{..., -\\frac{3}{2} \\Delta r, -\\frac{1}{2} \\Delta r, +\\frac{1}{2} \\Delta r, +\\frac{3}{2} \\Delta r  ...\\};\n",
    "$$\n",
    "and we will allow for two additional ghost zones on the outer boundary to account for the fourth-order finite differencing we will implement to numerically compute $\\nabla^2 u$. Thus the expression for computing $r_i$ will be\n",
    "\n",
    "$$\n",
    "r_i = r_{\\rm min} + \\left( (i-\\text{NGHOSTS}) + \\frac{1}{2} \\right) \\Delta r,\n",
    "$$\n",
    "where $\\Delta r$ is the spacing between gridpoints, and $r_{\\rm min}$ denotes the minimum grid value in $r$. We will solve this equation on a line centered on the origin with the `domain_size=50`, where $r_{\\rm min}=$ `-domain_size` and $r_{\\rm max}=$ `+domain_size`, and so forth. We'll also choose the spacing between gridpoints as\n",
    "\n",
    "$$\n",
    "\\Delta r = \\frac{r_{\\rm max}-r_{\\rm min}}{\\text{N}}.\n",
    "$$"
   ]
  },
  {
   "cell_type": "markdown",
   "id": "pursuant-closer",
   "metadata": {},
   "source": [
    "We start by defining a named tuple to store the code parameters:\n",
    "\n",
    "1. `N`: number of *interior* grid points.\n",
    "1. `NGHOSTS`: number of ghost points. There are extra grid points at each end of the numerical grid for the computation of finite-difference derivatives.\n",
    "1. `domain_size`: Size of numerical grid.\n",
    "1. `A`, `w`, and `sigma`: Souce-term parameters (to be defined).\n",
    "1. `eta_damping`: Relaxation damping parameter.\n",
    "1. `c`: wave speed."
   ]
  },
  {
   "cell_type": "code",
   "execution_count": 3,
   "id": "needed-phase",
   "metadata": {},
   "outputs": [],
   "source": [
    "# Define namedtuple to store parameters\n",
    "parameters = namedtuple('parameters', ['N', 'NGHOSTS', 'domain_size', 'A', 'w', 'sigma', 'eta_damping', 'c'])"
   ]
  },
  {
   "cell_type": "markdown",
   "id": "pointed-completion",
   "metadata": {},
   "source": [
    "The namedtuple can be created as:\n",
    "\n",
    "```\n",
    "params = parameters(N, NGHOSTS, domain_size, A, w, sigma, eta_damping, c)\n",
    "```\n",
    "\n",
    "And each element can be accessed as:\n",
    "\n",
    "```\n",
    "params.N\n",
    "params.NGHOSTS\n",
    "params.domain_size\n",
    "params.A\n",
    "params.w\n",
    "params.sigma \n",
    "params.eta_damping\n",
    "params.c\n",
    "```"
   ]
  },
  {
   "cell_type": "markdown",
   "id": "certain-italy",
   "metadata": {},
   "source": [
    "Next, we define a function to create a numerical grid:"
   ]
  },
  {
   "cell_type": "code",
   "execution_count": 4,
   "id": "decent-siemens",
   "metadata": {},
   "outputs": [],
   "source": [
    "def create_grid (params):\n",
    "    N, NGHOSTS = params.N, params.NGHOSTS\n",
    "    Ntotal     = N+2*NGHOSTS\n",
    "    rmin       = -params.domain_size\n",
    "    rmax       = params.domain_size\n",
    "    dr         = (rmax - rmin)/N \n",
    "    def r_i (rmin, NGHOSTS, dr, i):\n",
    "        return rmin + (i-params.NGHOSTS + 0.5)*dr\n",
    "    return np.arange(r_i(rmin, NGHOSTS, dr, 0), r_i(rmin, NGHOSTS, dr, Ntotal), dr)"
   ]
  },
  {
   "cell_type": "markdown",
   "id": "rough-measure",
   "metadata": {},
   "source": [
    "To create the numerical grid, only the first three parameters are important. So if you use the above function to create a grid `xx` (following stardand NRPy+ nomenclature) as:\n",
    "\n",
    "```\n",
    "params = parameters(100, 2, 5., None, None, None, None, None)\n",
    "xx = create_grid (params)\n",
    "```\n",
    "\n",
    "The resulting numerical grid will be\n",
    "```\n",
    "xx = \n",
    "array([-5.15, -5.05, -4.95, -4.85, -4.75, -4.65, -4.55, -4.45, -4.35,\n",
    "       -4.25, -4.15, -4.05, -3.95, -3.85, -3.75, -3.65, -3.55, -3.45,\n",
    "       -3.35, -3.25, -3.15, -3.05, -2.95, -2.85, -2.75, -2.65, -2.55,\n",
    "       -2.45, -2.35, -2.25, -2.15, -2.05, -1.95, -1.85, -1.75, -1.65,\n",
    "       -1.55, -1.45, -1.35, -1.25, -1.15, -1.05, -0.95, -0.85, -0.75,\n",
    "       -0.65, -0.55, -0.45, -0.35, -0.25, -0.15, -0.05,  0.05,  0.15,\n",
    "        0.25,  0.35,  0.45,  0.55,  0.65,  0.75,  0.85,  0.95,  1.05,\n",
    "        1.15,  1.25,  1.35,  1.45,  1.55,  1.65,  1.75,  1.85,  1.95,\n",
    "        2.05,  2.15,  2.25,  2.35,  2.45,  2.55,  2.65,  2.75,  2.85,\n",
    "        2.95,  3.05,  3.15,  3.25,  3.35,  3.45,  3.55,  3.65,  3.75,\n",
    "        3.85,  3.95,  4.05,  4.15,  4.25,  4.35,  4.45,  4.55,  4.65,\n",
    "        4.75,  4.85,  4.95,  5.05,  5.15])\n",
    "```\n",
    "\n",
    "The first thing to notice is that the length of this array is \n",
    "\n",
    "```\n",
    "len(xx) = 104\n",
    "```\n",
    "\n",
    "Since we'll be using fourth-order finite-difference derivatives, the grid has two extra points (ghost zones) at each end. Also, note that the \"cell-centered\" grid avoids the origin `r=0`, which remedies the singularity that appears in the Laplacian operator in spherical coordinates. This is also the standard in the NRPy+ codes. "
   ]
  },
  {
   "cell_type": "markdown",
   "id": "conscious-summer",
   "metadata": {},
   "source": [
    "<a id='numpy_rhss'></a>\n",
    "\n",
    "## Step 5.b: Define the right-hand sides of the PDEs \\[Back to [top](#toc)\\]\n",
    "$$\\label{numpy_rhss}$$\n",
    "\n",
    "Next we define the right-hand sides of the $u$ and $v$ equations:\n",
    "$$\n",
    "\\begin{aligned}\n",
    "\\frac{\\partial u}{\\partial t} &= v - \\eta u \\,, \\\\\n",
    "\\frac{\\partial v}{\\partial t} &= c^2 \\left( \\frac{\\partial^2 u}{\\partial r^2} \\\n",
    "                                    + \\frac{2}{r} \\frac{\\partial u}{\\partial r} + \\rho(r) \\right) \\,.\n",
    "\\end{aligned}\n",
    "$$\n",
    "\n",
    "Again we'll approximate the $\\nabla^2 u = \\frac{\\partial^2 u}{\\partial r^2} + \\frac{2}{r} \\frac{\\partial u}{\\partial r}$ using fourth-order [finite-difference derivatives](https://en.wikipedia.org/wiki/Finite_difference) (also see [the NRPy+ tutorial on how to compute these expressions automatically or by hand using simple matrix methods](Tutorial-Finite_Difference_Derivatives.ipynb)).\n",
    "\n",
    "Here we'll just use the [Wikipedia article on finite-difference coefficients](https://en.wikipedia.org/wiki/Finite_difference_coefficient) to construct the expressions for\n",
    "\n",
    "$$\n",
    "\\left( \\frac{\\partial^2 u}{\\partial r^2} \\right)_i \\ \\ \\ \\text{and} \\ \\ \\ \\left(\\frac{\\partial u}{\\partial r}\\right)_i\n",
    "$$\n",
    "by hand:\n",
    "\n",
    "The fourth-order finite difference stencils are written as\n",
    "$$\n",
    "\\begin{aligned}\n",
    "\\left(\\frac{\\partial u}{\\partial r}\\right)_i &= \\left[\\frac{1}{12} \\left(u_{i-2} - u_{i+2}\\right) \n",
    "                                              + \\frac{2}{3} \\left(-u_{i-1}+u_{i+1}\\right)\\right]\n",
    "                                              \\frac{1}{\\Delta r} \\,, \\\\\n",
    "%\n",
    "\\left( \\frac{\\partial^2 u}{\\partial r^2} \\right)_i &= \\left[-\\frac{1}{12} \\left(u_{i-2} + u_{i+2}\\right) \n",
    "                                                    + \\frac{4}{3} \\left(u_{i-1}+u_{i+1}\\right) \n",
    "                                                    - \\frac{5}{2} u_{i}\\right]\\frac{1}{(\\Delta r)^2} \\,.\n",
    "\\end{aligned}\n",
    "$$\n",
    "\n",
    "Let's create a function to evaluate the RHSs. The function parameters are:\n",
    "\n",
    "```\n",
    "params: nametuple with free parameters\n",
    "xx: array of numerical grid\n",
    "rho: array of source term evaluated at each grid points in xx\n",
    "u, and v: arrays of each evolved gridfunctions\n",
    "u_rhs, v_rhs: arrays where each RHS will be stored\n",
    "```"
   ]
  },
  {
   "cell_type": "code",
   "execution_count": 5,
   "id": "similar-throw",
   "metadata": {},
   "outputs": [],
   "source": [
    "def eval_rhs_all_interior_points(params, xx, rho, u, v, u_rhs, v_rhs):\n",
    "    NGHOSTS, N = params.NGHOSTS, params.N\n",
    "    c, eta_damping = params.c, params.eta_damping\n",
    "    dr = xx[1] - xx[0]\n",
    "    for i in range(NGHOSTS, N+NGHOSTS):\n",
    "        # Computing u_rhs\n",
    "        u_rhs[i] =  v[i] - eta_damping*u[i]\n",
    "        # Computing v_rhs\n",
    "        # u_{rr}\n",
    "        v_rhs[i] = (-(1./12.)*(u[i-2] + u[i+2]) + (4./3.)*(u[i-1] + u[i+1]) - (5./2.)*u[i])/(dr**2)\n",
    "        # 2/r * u_r\n",
    "        v_rhs[i] += (2./xx[i])*( (1./12.)*(u[i-2] - u[i+2]) + (2./3.)*(-u[i-1] + u[i+1]) )/dr\n",
    "        # Add source term\n",
    "        v_rhs[i] += rho[i]\n",
    "        # Multiply by c^2\n",
    "        v_rhs[i] *= c**2"
   ]
  },
  {
   "cell_type": "markdown",
   "id": "relative-investigation",
   "metadata": {},
   "source": [
    "<a id='numpy_bcs'></a>\n",
    "\n",
    "## Step 5.c: Boundary Conditions \\[Back to [top](#toc)\\]\n",
    "$$\\label{numpy_bcs}$$\n",
    "\n",
    "Notice that the above code does not fill the input gridfunctions $u$ and $v$ in the ghostzones, which will be updated at each Runge-Kutta substep (as outlined next). We will need to apply our spatial boundary conditions to fill in these points:\n",
    "\n",
    "```\n",
    "i = 0, 1, ..., (NGHOSTS-1) and \n",
    "i = (N+NGHOSTS), (N+NGHOSTS+1), ..., (N+2*NGHOSTS-1).\n",
    "```\n",
    "\n",
    "For instance, a grid in which `N=100`and `NGHOSTS=2`, the ghost points would be located at\n",
    "```\n",
    "i = 0, 1, 102, 103.\n",
    "```\n",
    "\n",
    "We will implement maximally dissipative boundary conditions. Let $u^B_i$ be the values of the gridfunction $u$ that we want to impose at the boudnary points. Because we are implementing a relaxation solver, we do set set the values of the evolution gridfunctions directly. Instead, we apply the boundary conditions to the RHS in the following way:\n",
    "\n",
    "$$\n",
    "\\begin{aligned}\n",
    "\\partial_t u_i &= - \\eta (u_i - u^B_i) \\,, \\\\\n",
    "\\partial_t v_i &= - \\eta (v_i - \\eta u^B_i) \\,,\n",
    "\\end{aligned}\n",
    "$$\n",
    "\n",
    "where we have used the fact that $v^B_i = \\eta u^B_i$, which comes directly from the RHS equation of u evaluated at the steady-state regime.\n",
    "\n",
    "As the time derivatives vanish, the RHSs of the boundary conditions go to $0$, and the gridfuctions satisfy the conditions at the boundary.\n"
   ]
  },
  {
   "cell_type": "code",
   "execution_count": 6,
   "id": "engaging-mailman",
   "metadata": {},
   "outputs": [],
   "source": [
    "def apply_bcs_to_rhs (params, uBoundary, u, v, u_rhs, v_rhs):\n",
    "    NGHOSTS, N = params.NGHOSTS, params.N\n",
    "    Ntotal = N + 2*NGHOSTS\n",
    "    eta_damping = params.eta_damping\n",
    "    # Apply leftmost boundary condition\n",
    "    for i in range(0, NGHOSTS):\n",
    "        u_rhs[i] = -eta_damping*(u[i] - uBoundary[i])\n",
    "        v_rhs[i] = -eta_damping*(v[i] - eta_damping*uBoundary[i])\n",
    "    # Apply rightmost boundary condition\n",
    "    for i in range(Ntotal-NGHOSTS, Ntotal):\n",
    "        u_rhs[i] = -eta_damping*(u[i] - uBoundary[i])\n",
    "        v_rhs[i] = -eta_damping*(v[i] - eta_damping*uBoundary[i])"
   ]
  },
  {
   "cell_type": "markdown",
   "id": "historic-family",
   "metadata": {},
   "source": [
    "<a id='numpy_residual'></a>\n",
    "\n",
    "## Step 5.d: Residual \\[Back to [top](#toc)\\]\n",
    "$$\\label{numpy_residual}$$\n",
    "\n",
    "Given a numerical solution, $u_N$, at any point during the relaxation, the residual of the solution is computed as\n",
    "\n",
    "$$\n",
    "{\\rm res}(u_N) \\equiv \\frac{\\partial^2 u_N}{\\partial r^2} + \\frac{2}{r} \\frac{\\partial u_N}{\\partial r} + \\rho(r) \\,.\n",
    "$$\n",
    "\n",
    "For an exact solution of the elliptic equation, the residual is identically zero."
   ]
  },
  {
   "cell_type": "code",
   "execution_count": 7,
   "id": "sophisticated-wisdom",
   "metadata": {},
   "outputs": [],
   "source": [
    "def eval_interior_residual(params, xx, rho, u, res):\n",
    "    NGHOSTS, N = params.NGHOSTS, params.N\n",
    "    dr = xx[1] - xx[0]\n",
    "    for i in range(NGHOSTS, N+NGHOSTS):\n",
    "        # u_{rr}\n",
    "        res[i] = (-(1./12.)*(u[i-2] + u[i+2]) + (4./3.)*(u[i-1] + u[i+1]) - (5./2.)*u[i])/(dr**2)\n",
    "        # 2/r * u_r\n",
    "        res[i] += (2./xx[i])*( (1./12.)*(u[i-2] - u[i+2]) + (2./3.)*(-u[i-1] + u[i+1]) )/dr\n",
    "        # Add source term\n",
    "        res[i] += rho[i]"
   ]
  },
  {
   "cell_type": "markdown",
   "id": "express-atmosphere",
   "metadata": {},
   "source": [
    "Another useful diagnostics metric is the L2-norm of the residual. For any gridfunction $f$, the L2-norm is defined as:\n",
    "\n",
    "$$\n",
    "|f|_2  \\equiv \\left ( \\sum_i f_i^2 \\Delta r \\right)^{1/2} \\,.\n",
    "$$"
   ]
  },
  {
   "cell_type": "code",
   "execution_count": 8,
   "id": "worth-theology",
   "metadata": {},
   "outputs": [],
   "source": [
    "def eval_l2_norm_of_gridfunc (params, xx, f):\n",
    "    NGHOSTS, N = params.NGHOSTS, params.N\n",
    "    dr = xx[1] - xx[0]\n",
    "    # Sum over interior grid\n",
    "    f2_sum = 0.\n",
    "    for i in range(NGHOSTS, N+NGHOSTS):\n",
    "        f2_sum += f[i]**2\n",
    "    return np.sqrt(f2_sum*dr)\n",
    "\n",
    "#     # More concise (and possibly obscure) way\n",
    "#     return np.sqrt(dr*np.prod(f**2))"
   ]
  },
  {
   "cell_type": "markdown",
   "id": "measured-italian",
   "metadata": {},
   "source": [
    "<a id='numpy_mol'></a>\n",
    "\n",
    "## Step 5.e: The Method of Lines \\[Back to [top](#toc)\\]\n",
    "$$\\label{numpy_mol}$$\n",
    "\n",
    "Next we'll set up the Method of Lines (MoL) routine for Runge-Kutta fourth order (RK4), which takes the solution at a given iteration in time $n$, and enables us to advance the solution forward to iteration $n+1$, as outlined in [Step 4](#mol)."
   ]
  },
  {
   "cell_type": "code",
   "execution_count": 9,
   "id": "dated-heritage",
   "metadata": {},
   "outputs": [],
   "source": [
    "def RK4_step(params, dt, xx, rho, uBoundary, k_u, k_v, u, v):\n",
    "    \"\"\"\n",
    "    Perform a single step in the RK-4 time integrator\n",
    "    dt       = time step\n",
    "    xx       = numerical grid\n",
    "    rho      = source term array\n",
    "    k_u, k_v = list of numpy arrays to store RK4 substeps\n",
    "    u, v     = solution at current time\n",
    "    \"\"\"\n",
    "    # Define substep arrays\n",
    "    k1_u, k2_u, k3_u, k4_u = k_u\n",
    "    k1_v, k2_v, k3_v, k4_v = k_v\n",
    "    \n",
    "    # Substep 1\n",
    "    eval_rhs_all_interior_points(params, xx, rho, u, v, k1_u, k1_v)\n",
    "    apply_bcs_to_rhs(params, uBoundary, u, v, k1_u, k1_v)\n",
    "    # Substep 2\n",
    "    eval_rhs_all_interior_points(params, xx, rho, u+dt*k1_u/2., v+dt*k1_v/2., k2_u, k2_v)\n",
    "    apply_bcs_to_rhs(params, uBoundary, u+dt*k1_u/2., v+dt*k1_v/2., k2_u, k2_v)\n",
    "    # Substep 3\n",
    "    eval_rhs_all_interior_points(params, xx, rho, u+dt*k2_u/2., v+dt*k2_v/2., k3_u, k3_v)\n",
    "    apply_bcs_to_rhs(params, uBoundary, u+dt*k2_u/2., v+dt*k2_v/2., k3_u, k3_v)\n",
    "    # Substep 4\n",
    "    eval_rhs_all_interior_points(params, xx, rho, u+dt*k3_u, v+dt*k3_v, k4_u, k4_v)\n",
    "    apply_bcs_to_rhs(params, uBoundary,  u+dt*k3_u, v+dt*k3_v, k4_u, k4_v)\n",
    "    # Update solution\n",
    "    u[:] = u + (1.0/6.0)*dt*(k1_u + 2.0*k2_u + 2.0*k3_u + k4_u)\n",
    "    v[:] = v + (1.0/6.0)*dt*(k1_v + 2.0*k2_v + 2.0*k3_v + k4_v)"
   ]
  },
  {
   "cell_type": "markdown",
   "id": "polyphonic-finland",
   "metadata": {},
   "source": [
    "<a id='numpy_source'></a>\n",
    "\n",
    "## Step 5.f: Source term and exact solution \\[Back to [top](#toc)\\]\n",
    "$$\\label{numpy_source}$$\n",
    "\n",
    "So far we have not specified the source term. For pegagogical purposes, we will generate a source term based on a previuosly specified exact relaxed solution:\n",
    "\n",
    "$$\n",
    "u_E(r) = A \\cos(\\omega r) \\exp\\left( \\frac{-r^2}{2 \\sigma^2} \\right) \\,,\n",
    "$$\n",
    "\n",
    "where $A$, $\\sigma$ and $\\omega$ and free parameters.\n",
    "\n",
    "We can use `SymPy` to derive a source term $\\rho(r)$ such that $\\nabla^2 u + \\rho(r) = 0$ identically."
   ]
  },
  {
   "cell_type": "code",
   "execution_count": 10,
   "id": "optional-emergency",
   "metadata": {},
   "outputs": [],
   "source": [
    "# Define SymPy symbols\n",
    "r, A, w, sigma = sp.symbols(\"r A w sigma\", real=True)\n",
    "# Define exact solution\n",
    "u_E    = A*sp.cos(w*r)*sp.exp(-r**2 / ( 2*(sigma**2) ) )\n",
    "# Compute Laplacian under the spherical symmetry assumption\n",
    "lap    = sp.simplify( u_E.diff(r,2) + (2/r)*u_E.diff(r) )\n",
    "# Compute sourc terms\n",
    "rho_E  = sp.simplify(-lap)"
   ]
  },
  {
   "cell_type": "code",
   "execution_count": 11,
   "id": "familiar-function",
   "metadata": {},
   "outputs": [
    {
     "data": {
      "text/latex": [
       "$\\displaystyle \\frac{A \\left(- r^{3} \\cos{\\left(r w \\right)} - 2 r^{2} \\sigma^{2} w \\sin{\\left(r w \\right)} + r \\sigma^{4} w^{2} \\cos{\\left(r w \\right)} + 3 r \\sigma^{2} \\cos{\\left(r w \\right)} + 2 \\sigma^{4} w \\sin{\\left(r w \\right)}\\right) e^{- \\frac{r^{2}}{2 \\sigma^{2}}}}{r \\sigma^{4}}$"
      ],
      "text/plain": [
       "A*(-r**3*cos(r*w) - 2*r**2*sigma**2*w*sin(r*w) + r*sigma**4*w**2*cos(r*w) + 3*r*sigma**2*cos(r*w) + 2*sigma**4*w*sin(r*w))*exp(-r**2/(2*sigma**2))/(r*sigma**4)"
      ]
     },
     "execution_count": 11,
     "metadata": {},
     "output_type": "execute_result"
    }
   ],
   "source": [
    "# Display source term\n",
    "rho_E"
   ]
  },
  {
   "cell_type": "code",
   "execution_count": 12,
   "id": "chicken-maryland",
   "metadata": {},
   "outputs": [
    {
     "name": "stdout",
     "output_type": "stream",
     "text": [
      "0\n"
     ]
    }
   ],
   "source": [
    "# Check that the equation is identically zero\n",
    "eq = lap + rho_E\n",
    "print(sp.simplify(eq))"
   ]
  },
  {
   "cell_type": "markdown",
   "id": "tough-sentence",
   "metadata": {},
   "source": [
    "To implement this equation in a more efficient way, we can use the built-in CSE (common subexpression elimination) algorithm that comes with SymPy:"
   ]
  },
  {
   "cell_type": "code",
   "execution_count": 13,
   "id": "fantastic-resort",
   "metadata": {},
   "outputs": [
    {
     "data": {
      "text/plain": [
       "([(x0, sigma**4),\n",
       "  (x1, r**2),\n",
       "  (x2, sigma**2),\n",
       "  (x3, r*w),\n",
       "  (x4, cos(x3)),\n",
       "  (x5, r*x4),\n",
       "  (x6, 2*w*sin(x3))],\n",
       " [A*(-r**3*x4 + w**2*x0*x5 + x0*x6 - x1*x2*x6 + 3*x2*x5)*exp(-x1/(2*x2))/(r*x0)])"
      ]
     },
     "execution_count": 13,
     "metadata": {},
     "output_type": "execute_result"
    }
   ],
   "source": [
    "sp.cse(rho_E)"
   ]
  },
  {
   "cell_type": "code",
   "execution_count": 14,
   "id": "numerical-manual",
   "metadata": {},
   "outputs": [],
   "source": [
    "def replace_trig_funcs (string):\n",
    "    \"\"\"Replace transcendental functions by numpy functions\"\"\"\n",
    "    return string.replace('exp','np.exp').replace('sin','np.sin').replace('cos','np.cos').replace('tan','np.tan')"
   ]
  },
  {
   "cell_type": "code",
   "execution_count": 15,
   "id": "solved-opera",
   "metadata": {},
   "outputs": [
    {
     "name": "stdout",
     "output_type": "stream",
     "text": [
      "def eval_rho(params, r):\n",
      "    # Unpack params:\n",
      "    A, sigma, w = params.A, params.sigma, params.w\n",
      "    # Define CSE temporary variables\n",
      "    x0 = sigma**4\n",
      "    x1 = r**2\n",
      "    x2 = sigma**2\n",
      "    x3 = r*w\n",
      "    x4 = np.cos(x3)\n",
      "    x5 = r*x4\n",
      "    x6 = 2*w*np.sin(x3)\n",
      "    # Compute source term\n",
      "    return A*(-r**3*x4 + w**2*x0*x5 + x0*x6 - x1*x2*x6 + 3*x2*x5)*np.exp(-x1/(2*x2))/(r*x0)\n"
     ]
    }
   ],
   "source": [
    "# Create function to compute source term\n",
    "cse_vars = sp.cse(rho_E)\n",
    "print(\"def eval_rho(params, r):\")\n",
    "print(\"    # Unpack params:\\n    A, sigma, w = params.A, params.sigma, params.w\")\n",
    "print(\"    # Define CSE temporary variables\")\n",
    "for var in cse_vars[0]:\n",
    "    print(replace_trig_funcs(f\"    {var[0]} = {var[1]}\"))\n",
    "print(\"    # Compute source term\")\n",
    "print(replace_trig_funcs(f\"    return {cse_vars[1][0]}\"))"
   ]
  },
  {
   "cell_type": "markdown",
   "id": "simple-grass",
   "metadata": {},
   "source": [
    "You can use the string generated above to define a Python function:"
   ]
  },
  {
   "cell_type": "code",
   "execution_count": 16,
   "id": "superb-render",
   "metadata": {},
   "outputs": [],
   "source": [
    "def eval_rho(params, r):\n",
    "    # Unpack params:\n",
    "    A, sigma, w = params.A, params.sigma, params.w\n",
    "    # Define CSE temporary variables\n",
    "    x0 = sigma**4\n",
    "    x1 = r**2\n",
    "    x2 = sigma**2\n",
    "    x3 = r*w\n",
    "    x4 = np.cos(x3)\n",
    "    x5 = r*x4\n",
    "    x6 = 2*w*np.sin(x3)\n",
    "    # Compute source term\n",
    "    return A*(-r**3*x4 + w**2*x0*x5 + x0*x6 - x1*x2*x6 + 3*x2*x5)*np.exp(-x1/(2*x2))/(r*x0)"
   ]
  },
  {
   "cell_type": "markdown",
   "id": "married-january",
   "metadata": {},
   "source": [
    "We also define a function to compute the exact solution:"
   ]
  },
  {
   "cell_type": "code",
   "execution_count": 17,
   "id": "bibliographic-bobby",
   "metadata": {},
   "outputs": [],
   "source": [
    "def eval_u_exact(params, r):\n",
    "    # Unpack params:\n",
    "    A, sigma, w = params.A, params.sigma, params.w\n",
    "    return A*np.exp(-r**2/(2*sigma**2))*np.cos(r*w)"
   ]
  },
  {
   "cell_type": "markdown",
   "id": "designed-integer",
   "metadata": {},
   "source": [
    "<a id='numpy_driver'></a>\n",
    "\n",
    "## Step 5.g: The main driver function \\[Back to [top](#toc)\\]\n",
    "$$\\label{numpy_driver}$$"
   ]
  },
  {
   "cell_type": "code",
   "execution_count": 29,
   "id": "fresh-douglas",
   "metadata": {
    "scrolled": false
   },
   "outputs": [],
   "source": [
    "def elliptic_solver (params, N_iter, output_ETA=False):\n",
    "\n",
    "    # Generate numerical grid:\n",
    "    xx = create_grid(params)\n",
    "\n",
    "    # Compute exact solution for dignostics purposes\n",
    "    u_exact = eval_u_exact(params, xx)\n",
    "\n",
    "    # Use exact solution to set boundary condition\n",
    "    uBoundary = u_exact\n",
    "\n",
    "    # Compute source term\n",
    "    rho = eval_rho(params, xx)\n",
    "\n",
    "    # Create arrays for gridfunctions\n",
    "    u = np.zeros(params.N+2*params.NGHOSTS)\n",
    "    v = np.zeros(params.N+2*params.NGHOSTS)\n",
    "\n",
    "    # Create arrays to store RK4 substeps\n",
    "    k1_u = np.zeros(params.N+2*params.NGHOSTS)\n",
    "    k2_u = np.zeros(params.N+2*params.NGHOSTS)\n",
    "    k3_u = np.zeros(params.N+2*params.NGHOSTS)\n",
    "    k4_u = np.zeros(params.N+2*params.NGHOSTS)\n",
    "    k1_v = np.zeros(params.N+2*params.NGHOSTS)\n",
    "    k2_v = np.zeros(params.N+2*params.NGHOSTS)\n",
    "    k3_v = np.zeros(params.N+2*params.NGHOSTS)\n",
    "    k4_v = np.zeros(params.N+2*params.NGHOSTS)\n",
    "\n",
    "    # For compactness, store RK substep arrays in Python lists\n",
    "    k_u = [k1_u, k2_u, k3_u, k4_u]\n",
    "    k_v = [k1_v, k2_v, k3_v, k4_v]\n",
    "\n",
    "    # Create array to store residual\n",
    "    res = np.zeros(params.N+2*params.NGHOSTS)\n",
    "\n",
    "    # Create array to store L2-norm of residual\n",
    "    l2_norm_res = np.zeros(N_iter)\n",
    "\n",
    "    # Set CFL factor\n",
    "    CFL_factor = 0.7\n",
    "\n",
    "    # Set RK4 time step based on CFL factor\n",
    "    dr = xx[1] - xx[0]\n",
    "    dt = CFL_factor*dr/params.c\n",
    "\n",
    "    # Output every timestep for N_iter=10; every other timestep for N_iter=20; etc\n",
    "    n_out_every = int(N_iter/10.)  \n",
    "    \n",
    "    # For estimating ETA\n",
    "    start = time.time()\n",
    "    \n",
    "    # Main iteration loop\n",
    "    for n in range(N_iter):\n",
    "        # Print time estimate\n",
    "        ETA = \"N/A\"\n",
    "        if (n > 0) and ((n+1) % n_out_every == 0) and output_ETA:\n",
    "            time_elapsed_in_seconds = time.time() - start\n",
    "            seconds_per_n = time_elapsed_in_seconds/n\n",
    "            time_remaining_m_field = int((N_iter - n)*seconds_per_n/60)\n",
    "            time_remaining_s_field = (N_iter - n)*seconds_per_n - time_remaining_m_field*60\n",
    "            ETA = str(time_remaining_m_field)+\"m\"+ '%.2f' % time_remaining_s_field + \"s\"\n",
    "            print(\"# Integrating forward in time. ETA: %s seconds\" % (ETA))\n",
    "            \n",
    "        # Compute residual\n",
    "        eval_interior_residual(params, xx, rho, u, res)\n",
    "        # Compute L2-norm of residual\n",
    "        l2_norm_res[n] = eval_l2_norm_of_gridfunc (params, xx, res)\n",
    "        # Update solution\n",
    "        RK4_step(params, dt, xx, rho, uBoundary, k_u, k_v, u, v)\n",
    "        \n",
    "    # Output grid, solution arrays, residual arrays, and L2-norms of residual as function of time steps\n",
    "    return xx, u, v, res, l2_norm_res"
   ]
  },
  {
   "cell_type": "code",
   "execution_count": 30,
   "id": "athletic-heaven",
   "metadata": {},
   "outputs": [],
   "source": [
    "# Set parameters\n",
    "N           = 100\n",
    "NGHOSTS     = 2\n",
    "domain_size = 50.\n",
    "A           = 1.\n",
    "w           = 1.\n",
    "sigma       = 30.\n",
    "eta_damping = 1.\n",
    "c           = 1.\n",
    "# Set parameter namedtuple\n",
    "params = parameters(N, NGHOSTS, domain_size, A, w, sigma, eta_damping, c)"
   ]
  },
  {
   "cell_type": "code",
   "execution_count": 31,
   "id": "graduate-belgium",
   "metadata": {
    "scrolled": false
   },
   "outputs": [],
   "source": [
    "# Set total number of iterations\n",
    "N_iter = 2000\n",
    "# Perform relaxation\n",
    "xx, u, v, res, l2_norm_res = elliptic_solver(params, N_iter)"
   ]
  },
  {
   "cell_type": "code",
   "execution_count": 41,
   "id": "colored-apple",
   "metadata": {},
   "outputs": [
    {
     "data": {
      "image/png": "[encoded data removed]",
      "text/plain": [
       "<Figure size 600x400 with 1 Axes>"
      ]
     },
     "metadata": {
      "needs_background": "light"
     },
     "output_type": "display_data"
    }
   ],
   "source": [
    "fig = plt.figure(dpi=100)\n",
    "\n",
    "# Compute exact solution for dignostics purposes\n",
    "u_exact = eval_u_exact(params, xx)\n",
    "\n",
    "iplotmin = 0\n",
    "iplotmax = params.N + 2*params.NGHOSTS - 1\n",
    "\n",
    "plt.plot(xx[iplotmin:iplotmax], u[iplotmin:iplotmax], color='red')\n",
    "plt.scatter(xx[iplotmin:iplotmax], u_exact[iplotmin:iplotmax], color='k', s=20.0)\n",
    "\n",
    "plt.xlabel(r\"$r$\", fontsize = 14)\n",
    "plt.ylabel(r\"$u(r)$\", fontsize = 14)\n",
    "\n",
    "\n",
    "plt.show()"
   ]
  },
  {
   "cell_type": "code",
   "execution_count": 42,
   "id": "ideal-allowance",
   "metadata": {},
   "outputs": [
    {
     "data": {
      "image/png": "[encoded data removed]",
      "text/plain": [
       "<Figure size 600x400 with 1 Axes>"
      ]
     },
     "metadata": {
      "needs_background": "light"
     },
     "output_type": "display_data"
    }
   ],
   "source": [
    "fig = plt.figure(dpi=100)\n",
    "\n",
    "iplotmin = params.NGHOSTS\n",
    "iplotmax = params.N - params.NGHOSTS - 1\n",
    "\n",
    "plt.plot(xx[iplotmin:iplotmax], np.log10(np.abs(res[iplotmin:iplotmax] + 1.0e-17)), color='red')\n",
    "\n",
    "plt.xlabel(r\"$r$\", fontsize = 14)\n",
    "plt.ylabel(\"residual\", fontsize = 14)\n",
    "\n",
    "\n",
    "plt.show()"
   ]
  },
  {
   "cell_type": "code",
   "execution_count": 43,
   "id": "improving-answer",
   "metadata": {},
   "outputs": [
    {
     "data": {
      "image/png": "[encoded data removed]",
      "text/plain": [
       "<Figure size 780x520 with 1 Axes>"
      ]
     },
     "metadata": {
      "needs_background": "light"
     },
     "output_type": "display_data"
    }
   ],
   "source": [
    "fig = plt.figure(dpi=130)\n",
    "\n",
    "n_steps = np.arange(N_iter)\n",
    "\n",
    "plt.plot(n_steps, np.log10(l2_norm_res), color='red')\n",
    "\n",
    "plt.title(\"L2-norm of residual vs. iteration steps\")\n",
    "plt.xlabel(r\"Iteration steps ($n$)\", fontsize = 14)\n",
    "plt.ylabel(r\"$\\log_{10}(\\sqrt{|res|_2)}$\", fontsize = 14)\n",
    "plt.show()"
   ]
  },
  {
   "cell_type": "code",
   "execution_count": null,
   "id": "moderate-venue",
   "metadata": {},
   "outputs": [],
   "source": []
  },
  {
   "cell_type": "code",
   "execution_count": null,
   "id": "handy-compression",
   "metadata": {},
   "outputs": [],
   "source": []
  },
  {
   "cell_type": "code",
   "execution_count": null,
   "id": "bigger-engineering",
   "metadata": {},
   "outputs": [],
   "source": []
  },
  {
   "cell_type": "code",
   "execution_count": null,
   "id": "initial-organization",
   "metadata": {},
   "outputs": [],
   "source": []
  },
  {
   "cell_type": "markdown",
   "id": "accurate-dominant",
   "metadata": {},
   "source": [
    "<a id='latex_pdf_output'></a>\n",
    "\n",
    "# Step 8: Output this notebook to $\\LaTeX$-formatted PDF file \\[Back to [top](#toc)\\]\n",
    "$$\\label{latex_pdf_output}$$\n",
    "\n",
    "The following code cell converts this Jupyter notebook into a proper, clickable $\\LaTeX$-formatted PDF file. After the cell is successfully run, the generated PDF may be found in the root NRPy+ tutorial directory, with filename\n",
    "[Tutorial-1D-Elliptic-solver-in-Python.pdf](Tutorial-1D-Elliptic-solver-in-Python.pdf). (Note that clicking on this link may not work; you may need to open the PDF file through another means.)"
   ]
  },
  {
   "cell_type": "code",
   "execution_count": 24,
   "id": "congressional-postage",
   "metadata": {},
   "outputs": [
    {
     "name": "stdout",
     "output_type": "stream",
     "text": [
      "Created Tutorial-1D-Elliptic-solver-in-Python.tex, and compiled LaTeX file\n",
      "    to PDF file Tutorial-1D-Elliptic-solver-in-Python.pdf\n"
     ]
    }
   ],
   "source": [
    "import cmdline_helper as cmd    # NRPy+: Multi-platform Python command-line interface\n",
    "cmd.output_Jupyter_notebook_to_LaTeXed_PDF(\"Tutorial-1D-Elliptic-solver-in-Python\")"
   ]
  },
  {
   "cell_type": "code",
   "execution_count": null,
   "id": "incoming-sunset",
   "metadata": {},
   "outputs": [],
   "source": []
  },
  {
   "cell_type": "code",
   "execution_count": null,
   "id": "favorite-trader",
   "metadata": {},
   "outputs": [],
   "source": []
  },
  {
   "cell_type": "code",
   "execution_count": null,
   "id": "dangerous-reset",
   "metadata": {},
   "outputs": [],
   "source": []
  },
  {
   "cell_type": "code",
   "execution_count": null,
   "id": "useful-ensemble",
   "metadata": {},
   "outputs": [],
   "source": []
  }
 ],
 "metadata": {
  "kernelspec": {
   "display_name": "Python 3 (ipykernel)",
   "language": "python",
   "name": "python3"
  },
  "language_info": {
   "codemirror_mode": {
    "name": "ipython",
    "version": 3
   },
   "file_extension": ".py",
   "mimetype": "text/x-python",
   "name": "python",
   "nbconvert_exporter": "python",
   "pygments_lexer": "ipython3",
   "version": "3.7.10"
  }
 },
 "nbformat": 4,
 "nbformat_minor": 5
}
