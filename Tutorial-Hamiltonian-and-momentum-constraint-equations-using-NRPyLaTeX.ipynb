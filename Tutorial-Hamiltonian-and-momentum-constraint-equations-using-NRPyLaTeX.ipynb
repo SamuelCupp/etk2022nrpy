{
 "cells": [
  {
   "cell_type": "markdown",
   "id": "studied-jacksonville",
   "metadata": {},
   "source": [
    "<script async src=\"https://www.googletagmanager.com/gtag/js?id=UA-59152712-8\"></script>\n",
    "<script>\n",
    "  window.dataLayer = window.dataLayer || [];\n",
    "  function gtag(){dataLayer.push(arguments);}\n",
    "  gtag('js', new Date());\n",
    "\n",
    "  gtag('config', 'UA-59152712-8');\n",
    "</script>\n",
    "\n",
    "# Hamiltonian and momentum constraint equations using NRPyLaTeX \n",
    "\n",
    "## Author: Thiago Assumpção\n",
    "\n",
    "\n",
    "## In this tutorial, we check that the UIUC metric satisfies the Hamiltonian and momentum constraint equations. We begin with the manual approach, and subsequently demonstrate how to reproduce the results using NRPyLaTeX.\n",
    "\n",
    "**Notebook Status:** <font color='red'><b> Not validated </b></font>\n",
    "\n",
    "**Validation Notes:** This tutorial notebook has been confirmed to be self-consistent with its corresponding NRPy+ module, as documented [below](#code_validation).\n",
    "\n",
    "### NRPy+ Source Code for this module: [_____.py](../edit/_____.py)"
   ]
  },
  {
   "cell_type": "markdown",
   "id": "smart-climb",
   "metadata": {},
   "source": [
    "<a id='toc'></a>\n",
    "\n",
    "# Table of Contents\n",
    "$$\\label{toc}$$\n",
    "\n",
    "This notebook is organized as follows\n",
    "\n",
    "1. [Step 1](#initializenrpy): Initialize core Python/NRPy+ modules\n",
    "\n",
    "\n",
    "1. [Step 8](#latex_pdf_output): Output this notebook to $\\LaTeX$-formatted PDF file"
   ]
  },
  {
   "cell_type": "markdown",
   "id": "empty-validity",
   "metadata": {},
   "source": [
    "<a id='initializenrpy'></a>\n",
    "\n",
    "# Step 1: Initialize core Python/NRPy+ modules \\[Back to [top](#toc)\\]\n",
    "$$\\label{initializenrpy}$$"
   ]
  },
  {
   "cell_type": "code",
   "execution_count": 1,
   "id": "leading-seller",
   "metadata": {},
   "outputs": [],
   "source": [
    "import sympy as sp                       # SymPy: The Python computer algebra package upon which NRPy+ depends\n",
    "import indexedexp as ixp                 # NRPy+: Symbolic indexed expression (e.g., tensors, vectors, etc.) support\n",
    "import NRPy_param_funcs as par           # NRPy+: Parameter interface\n",
    "from UnitTesting.assert_equal import check_zero # NRPy+: unit testing suite"
   ]
  },
  {
   "cell_type": "code",
   "execution_count": 2,
   "id": "dressed-shopper",
   "metadata": {},
   "outputs": [
    {
     "name": "stdout",
     "output_type": "stream",
     "text": [
      "nrpylatex==1.2.2\r\n"
     ]
    }
   ],
   "source": [
    "!pip install nrpylatex~=1.2 > /dev/null\n",
    "!pip freeze | grep nrpylatex\n",
    "\n",
    "from nrpylatex import parse_latex\n",
    "%load_ext nrpylatex.extension"
   ]
  },
  {
   "cell_type": "code",
   "execution_count": 3,
   "id": "representative-kenya",
   "metadata": {},
   "outputs": [],
   "source": [
    "thismodule = __name__"
   ]
  },
  {
   "cell_type": "markdown",
   "id": "weird-rolling",
   "metadata": {},
   "source": [
    "<a id='uiucbh'></a>\n",
    "\n",
    "# Step 2: UIUC metric \\[Back to [top](#toc)\\]\n",
    "$$\\label{uiucbh}$$"
   ]
  },
  {
   "cell_type": "code",
   "execution_count": 4,
   "id": "handy-compression",
   "metadata": {},
   "outputs": [],
   "source": [
    "# All gridfunctions are written in terms of spherical coordinates (r, th, ph):\n",
    "r, th, ph = sp.symbols('r th ph', real=True)\n",
    "\n",
    "# Mass and spin parameters:\n",
    "M, chi = sp.symbols(\"M chi\", positive=True)\n",
    "\n",
    "# Import UIUC Black Hole initial data\n",
    "import BSSN.UIUCBlackHole as uibh\n",
    "uibh.UIUCBlackHole(ComputeADMGlobalsOnly=True)\n",
    "Sph_r_th_ph = [uibh.r,uibh.th,uibh.ph]\n",
    "a   = uibh.a\n",
    "rp  = uibh.rp\n",
    "rm  = uibh.rm\n",
    "rBL = uibh.rBL\n",
    "SIG = uibh.SIG\n",
    "DEL = uibh.DEL\n",
    "AA  = uibh.AA\n",
    "alphaSph    = uibh.alphaSph\n",
    "betaSphU    = uibh.betaSphU\n",
    "gammaSphDD  = uibh.gammaSphDD\n",
    "KSphDD      = uibh.KSphDD"
   ]
  },
  {
   "cell_type": "markdown",
   "id": "awful-prevention",
   "metadata": {},
   "source": [
    "<a id='overwrite_lapse_shift'></a>\n",
    "\n",
    "## Step 2a: Overwite lapse and shift compatible with Kerr metric  \\[Back to [top](#toc)\\]\n",
    "$$\\label{overwrite_lapse_shift}$$\n",
    "\n",
    "The lapse and the non-vanishing component of the shift in spherical coordinates are given by (see Eqs. (6,7) in [Liu, Etienne, & Shapiro, PRD 80 121503, 2009](https://arxiv.org/abs/1001.4077)):\n",
    "\n",
    "$$\n",
    "\\begin{aligned}\n",
    "\\alpha &= \\sqrt{ \\frac{\\Delta \\Sigma} {A} } \\,, \\\\\n",
    "\\beta^{\\phi} &= - \\frac{ 2aMr_{\\rm BL} } {A} \\,.\n",
    "\\end{aligned}\n",
    "$$"
   ]
  },
  {
   "cell_type": "code",
   "execution_count": 5,
   "id": "dense-juvenile",
   "metadata": {},
   "outputs": [],
   "source": [
    "alphaSph    = sp.sqrt( (DEL*SIG) / AA )\n",
    "betaSphU[2] = - (2*a*M*rBL) / AA"
   ]
  },
  {
   "cell_type": "markdown",
   "id": "supreme-parent",
   "metadata": {},
   "source": [
    "<a id='conformal_factor'></a>\n",
    "\n",
    "## Step 2b: Define conformal factor, $\\psi$, and its first and second derivatives \\[Back to [top](#toc)\\]\n",
    "$$\\label{conformal_factor}$$\n",
    "\n",
    "The conformal factor is given by (see, e.g., Eq. (2) in [Liu, Etienne, & Shapiro, PRD 80 121503, 2009](https://arxiv.org/abs/1001.4077)):\n",
    "\n",
    "$$\n",
    "\\psi^4 = \\frac{A}{\\Sigma} \\,.\n",
    "$$"
   ]
  },
  {
   "cell_type": "code",
   "execution_count": 6,
   "id": "valued-portal",
   "metadata": {},
   "outputs": [],
   "source": [
    "# Define \\psi^4\n",
    "psi4 = AA/SIG\n",
    "# Define \\psi = (\\psi^4)^(1/4)\n",
    "psi = sp.Pow(psi4, sp.Rational(1,4))"
   ]
  },
  {
   "cell_type": "code",
   "execution_count": 7,
   "id": "settled-hindu",
   "metadata": {},
   "outputs": [],
   "source": [
    "# Define list with varibles for differentiation\n",
    "# Since there is no \\phi dependence, we only differentiate\n",
    "# with respect to r and \\theta\n",
    "xSphU = [r, th]\n",
    "\n",
    "# Compute first derivative of psi\n",
    "psi_dD = ixp.zerorank1(DIM=3)\n",
    "for i in range(2):\n",
    "    psi_dD[i] = psi.diff(xSphU[i])\n",
    "\n",
    "# Compute second derivative of psi\n",
    "psi_dDD = ixp.zerorank2(DIM=3)\n",
    "for i in range(2):\n",
    "    for j in range(2):\n",
    "        psi_dDD[i][j] = psi.diff(xSphU[i]).diff(xSphU[j])"
   ]
  },
  {
   "cell_type": "code",
   "execution_count": null,
   "id": "exciting-world",
   "metadata": {},
   "outputs": [],
   "source": []
  },
  {
   "cell_type": "markdown",
   "id": "dated-designation",
   "metadata": {},
   "source": [
    "<a id='nrpylatex'></a>\n",
    "\n",
    "# Step 4: Constraint equations with NRPyLaTeX \\[Back to [top](#toc)\\]\n",
    "$$\\label{nrpylatex}$$"
   ]
  },
  {
   "cell_type": "code",
   "execution_count": null,
   "id": "super-webster",
   "metadata": {},
   "outputs": [],
   "source": []
  },
  {
   "cell_type": "code",
   "execution_count": 8,
   "id": "baking-insurance",
   "metadata": {
    "scrolled": false
   },
   "outputs": [
    {
     "data": {
      "text/latex": [
       "\\[\n",
       "%% define LES coordinates\n",
       "% coord [r, \\theta, \\phi]\n",
       "\n",
       "%% define any relevant constant(s)\n",
       "% define a M --const\n",
       "\n",
       "%% initialize every component of the metric to zero\n",
       "% define gammaDD --dim 3 --zero\n",
       "\n",
       "%% initialize every component of the conformal metric to zero\n",
       "% define gammatildeDD --dim 3 --zero\n",
       "\n",
       "%% initialize extrinsic curvature tensor KDD\n",
       "% define KDD --dim 3 --zero\n",
       "\n",
       "%% initialize shift vector betaU\n",
       "% define betaU --dim 3 --zero\n",
       "\n",
       "%% initialize momentum constraint violation vector MU\n",
       "% define mU --dim 3 --zero\n",
       "\n",
       "%% define UIUC metric element\n",
       "% srepl \"rp\"  -> \"\\text{rp}\"\n",
       "% srepl \"rm\"  -> \"\\text{rm}\"\n",
       "% srepl \"r_{-}\"  -> \"\\text{rp}\"\n",
       "% srepl \"r_{+}\"  -> \"\\text{rm}\"\n",
       "% srepl \"rBL\" -> \"\\text{rBL}\"\n",
       "% srepl \"r_{BL}\" -> \"\\text{rBL}\"\n",
       "\n",
       "% ignore \"\\begin{align}\" \"\\end{align}\"\n",
       "\\begin{align}\n",
       "%% Define quantities that are used to construct the metric elements\n",
       "r_{+}  &= M + \\sqrt{M^2 - a^2} \\\\ %% Boyer-Lindquist outer horizon\n",
       "r_{-}  &= M - \\sqrt{M^2 - a^2} \\\\ %% Boyer-Lindquist inner horizon\n",
       "r_{BL} &= r\\left(1 + \\frac{ r_{+} }{4r}\\right)^2 \\\\\n",
       "\\Sigma &= r_{BL}^2 + a^2 \\cos^2 \\theta \\\\\n",
       "\\Delta &= r_{BL}^2 - 2 M r_{BL} + a^2 \\\\\n",
       "A &= (r_{BL}^2 + a^2)^2 - \\Delta a^2 \\sin^2 \\theta \\\\\n",
       "%% Define metric elements\n",
       "\\gamma_{r r} &= \\frac{ \\Sigma (r + \\frac{r_{+}}{4})^2}{ r^3 (r_{BL} - r_{-} )} \\\\ %% \\gamma_{r r} = g_{0 0}\n",
       "\\gamma_{\\theta\\theta} &= \\Sigma \\\\\n",
       "\\gamma_{\\phi\\phi} &= \\frac{A \\sin^2\\theta}{\\Sigma} \\\\\n",
       "%% generate inverse gammaUU, determinant det(gammaDD), and connection GammaUDD\n",
       "% assign gammaDD --metric\n",
       "%% Define ADM variables\n",
       "\\alpha &= \\sqrt{ \\frac{\\Delta \\Sigma} {A} } \\\\\n",
       "\\beta^{\\phi} &= - \\frac{ 2aM r_{BL} } {A} \\\\\n",
       "%% Define conformal factor\n",
       "\\psi &= \\left(\\frac{A}{\\Sigma}\\right)^{1/4} \\\\\n",
       "%% Define conformal metric\n",
       "\\tilde{\\gamma}_{ij} &= \\psi^{{-4}} \\gamma_{ij} \\\\\n",
       "%% generate inverse gammatildeUU, determinant det(gammatildeDD), and connection GammatildeUDD\n",
       "% assign gammatildeDD --metric\n",
       "%% Define extrinsic curvature\n",
       "K_{ij} &= \\frac{1}{2\\alpha} \\left( \\nabla_{i}\\beta_{j} + \\nabla_{j}\\beta_{i} \\right) \\\\\n",
       "%% Trace of extrinsic curvature\n",
       "K &= \\gamma^{ij} K_{ij}  \\\\\n",
       "%% Tracefree extrinsic curvature\n",
       "A_{ij} &= K_{ij} - \\frac{1}{3} K \\gamma_{ij} \\\\\n",
       "%% Conformal, tracefree extrinsic curvature\n",
       "\\tilde{A}_{ij} &= \\psi^2 A_{ij} \\\\\n",
       "%% Ricci tensor\n",
       "\\tilde{R}_{ij} &= -\\frac{1}{2} \\tilde{\\gamma}^{kl} ( \\tilde{\\gamma}_{ij,lk} \n",
       "                  + \\tilde{\\gamma}_{kl,ji} - \\tilde{\\gamma}_{kj,li} - \\tilde{\\gamma}_{il,jk})\n",
       "                  + \\tilde{\\gamma}^{kl} ( \\tilde{\\Gamma}^{m}_{il} \\tilde{\\Gamma}_{mkj} \n",
       "                  - \\tilde{\\Gamma}^{m}_{ij} \\tilde{\\Gamma}_{mkl}  ) \\\\\n",
       "%% Ricci scalar\n",
       "\\tilde{R} &= \\tilde{\\gamma}^{ij} \\tilde{R}_{ij} \\\\\n",
       "%% Hamiltonian contraint violation\n",
       "% srepl \"\\tilde{\\nabla}^2\" -> \" \\tilde{\\gamma}^{ij} \\tilde{\\nabla}_i \\tilde{\\nabla}_j\"\n",
       "H &= \\tilde{\\nabla}^2 \\psi - \\frac{\\psi \\tilde{R}}{8} - \\frac{ \\psi^5 K^{{2}} }{12} \n",
       "   + \\frac{\\tilde{A}_{ij}\\tilde{A}^{ij}}{8\\psi^7} \\\\\n",
       "%% Momentum constraint violation\n",
       "%% srepl \"\\tilde{\\nabla}^i\" -> \"\\tilde{\\gamma}^{ij} \\tilde{\\nabla}_j\"\n",
       "m^{i} &= \\tilde{\\nabla}_j \\tilde{A}^{ij} - \\frac{2}{3} \\psi^6 \\tilde{\\gamma}^{ij} \\tilde{\\nabla}_j K\n",
       "\\end{align}\n",
       "\\]"
      ],
      "text/plain": [
       "('A',\n",
       " 'betaD',\n",
       " 'RtildeDD',\n",
       " 'r',\n",
       " 'psi_cdtildeD_dD',\n",
       " 'psi_cdtildeD',\n",
       " 'KDD',\n",
       " 'psi_cdtildeDD',\n",
       " 'Delta',\n",
       " 'GammatildeUDD',\n",
       " 'alpha',\n",
       " 'AtildeUU',\n",
       " 'gammatildeDD',\n",
       " 'H',\n",
       " 'GammatildeDDD',\n",
       " 'psi_dD',\n",
       " 'rBL',\n",
       " 'betaU',\n",
       " 'K_cdtildeD',\n",
       " 'psi_dDD',\n",
       " 'theta',\n",
       " 'a',\n",
       " 'rm',\n",
       " 'Sigma',\n",
       " 'psi',\n",
       " 'gammaDD',\n",
       " 'rp',\n",
       " 'GammaUDD',\n",
       " 'betaD_cdD',\n",
       " 'AtildeDD',\n",
       " 'Rtilde',\n",
       " 'AtildeUU_cdtildeD',\n",
       " 'gammaUU',\n",
       " 'epsilonUUU',\n",
       " 'gammatildeUU',\n",
       " 'ADD',\n",
       " 'K',\n",
       " 'M',\n",
       " 'gammadet',\n",
       " 'mU',\n",
       " 'gammatildedet')"
      ]
     },
     "execution_count": 8,
     "metadata": {},
     "output_type": "execute_result"
    }
   ],
   "source": [
    "%%parse_latex --reset %%--debug\n",
    "\n",
    "%% define LES coordinates\n",
    "% coord [r, \\theta, \\phi]\n",
    "\n",
    "%% define any relevant constant(s)\n",
    "% define a M --const\n",
    "\n",
    "%% initialize every component of the metric to zero\n",
    "% define gammaDD --dim 3 --zero\n",
    "\n",
    "%% initialize every component of the conformal metric to zero\n",
    "% define gammatildeDD --dim 3 --zero\n",
    "\n",
    "%% initialize extrinsic curvature tensor KDD\n",
    "% define KDD --dim 3 --zero\n",
    "\n",
    "%% initialize shift vector betaU\n",
    "% define betaU --dim 3 --zero\n",
    "\n",
    "%% initialize momentum constraint violation vector MU\n",
    "% define mU --dim 3 --zero\n",
    "\n",
    "%% define UIUC metric element\n",
    "% srepl \"rp\"  -> \"\\text{rp}\"\n",
    "% srepl \"rm\"  -> \"\\text{rm}\"\n",
    "% srepl \"r_{-}\"  -> \"\\text{rp}\"\n",
    "% srepl \"r_{+}\"  -> \"\\text{rm}\"\n",
    "% srepl \"rBL\" -> \"\\text{rBL}\"\n",
    "% srepl \"r_{BL}\" -> \"\\text{rBL}\"\n",
    "\n",
    "% ignore \"\\begin{align}\" \"\\end{align}\"\n",
    "\\begin{align}\n",
    "%% Define quantities that are used to construct the metric elements\n",
    "r_{+}  &= M + \\sqrt{M^2 - a^2} \\\\ %% Boyer-Lindquist outer horizon\n",
    "r_{-}  &= M - \\sqrt{M^2 - a^2} \\\\ %% Boyer-Lindquist inner horizon\n",
    "r_{BL} &= r\\left(1 + \\frac{ r_{+} }{4r}\\right)^2 \\\\\n",
    "\\Sigma &= r_{BL}^2 + a^2 \\cos^2 \\theta \\\\\n",
    "\\Delta &= r_{BL}^2 - 2 M r_{BL} + a^2 \\\\\n",
    "A &= (r_{BL}^2 + a^2)^2 - \\Delta a^2 \\sin^2 \\theta \\\\\n",
    "%% Define metric elements\n",
    "\\gamma_{r r} &= \\frac{ \\Sigma (r + \\frac{r_{+}}{4})^2}{ r^3 (r_{BL} - r_{-} )} \\\\ %% \\gamma_{r r} = g_{0 0}\n",
    "\\gamma_{\\theta\\theta} &= \\Sigma \\\\\n",
    "\\gamma_{\\phi\\phi} &= \\frac{A \\sin^2\\theta}{\\Sigma} \\\\\n",
    "%% generate inverse gammaUU, determinant det(gammaDD), and connection GammaUDD\n",
    "% assign gammaDD --metric\n",
    "%% Define ADM variables\n",
    "\\alpha &= \\sqrt{ \\frac{\\Delta \\Sigma} {A} } \\\\\n",
    "\\beta^{\\phi} &= - \\frac{ 2aM r_{BL} } {A} \\\\\n",
    "%% Define conformal factor\n",
    "\\psi &= \\left(\\frac{A}{\\Sigma}\\right)^{1/4} \\\\\n",
    "%% Define conformal metric\n",
    "\\tilde{\\gamma}_{ij} &= \\psi^{{-4}} \\gamma_{ij} \\\\\n",
    "%% generate inverse gammatildeUU, determinant det(gammatildeDD), and connection GammatildeUDD\n",
    "% assign gammatildeDD --metric\n",
    "%% Define extrinsic curvature\n",
    "K_{ij} &= \\frac{1}{2\\alpha} \\left( \\nabla_{i}\\beta_{j} + \\nabla_{j}\\beta_{i} \\right) \\\\\n",
    "%% Trace of extrinsic curvature\n",
    "K &= \\gamma^{ij} K_{ij}  \\\\\n",
    "%% Tracefree extrinsic curvature\n",
    "A_{ij} &= K_{ij} - \\frac{1}{3} K \\gamma_{ij} \\\\\n",
    "%% Conformal, tracefree extrinsic curvature\n",
    "\\tilde{A}_{ij} &= \\psi^2 A_{ij} \\\\\n",
    "%% Ricci tensor\n",
    "\\tilde{R}_{ij} &= -\\frac{1}{2} \\tilde{\\gamma}^{kl} ( \\tilde{\\gamma}_{ij,lk} \n",
    "                  + \\tilde{\\gamma}_{kl,ji} - \\tilde{\\gamma}_{kj,li} - \\tilde{\\gamma}_{il,jk})\n",
    "                  + \\tilde{\\gamma}^{kl} ( \\tilde{\\Gamma}^{m}_{il} \\tilde{\\Gamma}_{mkj} \n",
    "                  - \\tilde{\\Gamma}^{m}_{ij} \\tilde{\\Gamma}_{mkl}  ) \\\\\n",
    "%% Ricci scalar\n",
    "\\tilde{R} &= \\tilde{\\gamma}^{ij} \\tilde{R}_{ij} \\\\\n",
    "%% Hamiltonian contraint violation\n",
    "% srepl \"\\tilde{\\nabla}^2\" -> \" \\tilde{\\gamma}^{ij} \\tilde{\\nabla}_i \\tilde{\\nabla}_j\"\n",
    "H &= \\tilde{\\nabla}^2 \\psi - \\frac{\\psi \\tilde{R}}{8} - \\frac{ \\psi^5 K^{{2}} }{12} \n",
    "   + \\frac{\\tilde{A}_{ij}\\tilde{A}^{ij}}{8\\psi^7} \\\\\n",
    "%% Momentum constraint violation\n",
    "%% srepl \"\\tilde{\\nabla}^i\" -> \"\\tilde{\\gamma}^{ij} \\tilde{\\nabla}_j\"\n",
    "m^{i} &= \\tilde{\\nabla}_j \\tilde{A}^{ij} - \\frac{2}{3} \\psi^6 \\tilde{\\gamma}^{ij} \\tilde{\\nabla}_j K\n",
    "\\end{align}\n"
   ]
  },
  {
   "cell_type": "code",
   "execution_count": 9,
   "id": "northern-german",
   "metadata": {
    "scrolled": false
   },
   "outputs": [
    {
     "data": {
      "text/plain": [
       "True"
      ]
     },
     "execution_count": 9,
     "metadata": {},
     "output_type": "execute_result"
    }
   ],
   "source": [
    "check_zero(mU[2])"
   ]
  },
  {
   "cell_type": "code",
   "execution_count": 13,
   "id": "limiting-trail",
   "metadata": {},
   "outputs": [
    {
     "data": {
      "text/plain": [
       "True"
      ]
     },
     "execution_count": 13,
     "metadata": {},
     "output_type": "execute_result"
    }
   ],
   "source": [
    "check_zero(H)"
   ]
  },
  {
   "cell_type": "code",
   "execution_count": null,
   "id": "absent-browser",
   "metadata": {},
   "outputs": [],
   "source": []
  },
  {
   "cell_type": "code",
   "execution_count": null,
   "id": "running-latino",
   "metadata": {},
   "outputs": [],
   "source": []
  },
  {
   "cell_type": "code",
   "execution_count": null,
   "id": "subject-converter",
   "metadata": {},
   "outputs": [],
   "source": []
  },
  {
   "cell_type": "markdown",
   "id": "accurate-dominant",
   "metadata": {},
   "source": [
    "<a id='latex_pdf_output'></a>\n",
    "\n",
    "# Step 8: Output this notebook to $\\LaTeX$-formatted PDF file \\[Back to [top](#toc)\\]\n",
    "$$\\label{latex_pdf_output}$$\n",
    "\n",
    "The following code cell converts this Jupyter notebook into a proper, clickable $\\LaTeX$-formatted PDF file. After the cell is successfully run, the generated PDF may be found in the root NRPy+ tutorial directory, with filename\n",
    "[Tutorial-Hamiltonian-and-momentum-constraint-equations-using-NRPyLaTeX.pdf](Tutorial-Hamiltonian-and-momentum-constraint-equations-using-NRPyLaTeX.pdf). (Note that clicking on this link may not work; you may need to open the PDF file through another means.)"
   ]
  },
  {
   "cell_type": "code",
   "execution_count": 11,
   "id": "congressional-postage",
   "metadata": {},
   "outputs": [],
   "source": [
    "# import cmdline_helper as cmd    # NRPy+: Multi-platform Python command-line interface\n",
    "# cmd.output_Jupyter_notebook_to_LaTeXed_PDF(\"Tutorial-Hamiltonian-and-momentum-constraint-equations-using-NRPyLaTeX\")"
   ]
  },
  {
   "cell_type": "code",
   "execution_count": null,
   "id": "incoming-sunset",
   "metadata": {},
   "outputs": [],
   "source": []
  },
  {
   "cell_type": "code",
   "execution_count": null,
   "id": "favorite-trader",
   "metadata": {},
   "outputs": [],
   "source": []
  },
  {
   "cell_type": "code",
   "execution_count": null,
   "id": "dangerous-reset",
   "metadata": {},
   "outputs": [],
   "source": []
  },
  {
   "cell_type": "code",
   "execution_count": null,
   "id": "useful-ensemble",
   "metadata": {},
   "outputs": [],
   "source": []
  }
 ],
 "metadata": {
  "kernelspec": {
   "display_name": "Python 3 (ipykernel)",
   "language": "python",
   "name": "python3"
  },
  "language_info": {
   "codemirror_mode": {
    "name": "ipython",
    "version": 3
   },
   "file_extension": ".py",
   "mimetype": "text/x-python",
   "name": "python",
   "nbconvert_exporter": "python",
   "pygments_lexer": "ipython3",
   "version": "3.7.10"
  }
 },
 "nbformat": 4,
 "nbformat_minor": 5
}
